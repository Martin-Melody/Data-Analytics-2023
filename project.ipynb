{
 "cells": [
  {
   "cell_type": "markdown",
   "id": "1e433384",
   "metadata": {},
   "source": [
    "# Analysis of Jiu-Jitsu Competition Data\n"
   ]
  },
  {
   "cell_type": "code",
   "execution_count": 1,
   "id": "b14ac74c",
   "metadata": {},
   "outputs": [],
   "source": [
    "%matplotlib inline\n",
    "import numpy as np\n",
    "import matplotlib.pyplot as plt\n",
    "import pandas as pd\n",
    "import seaborn as sns\n",
    "import re\n",
    "from scipy.stats import chi2_contingency"
   ]
  },
  {
   "cell_type": "markdown",
   "id": "24f13354-2488-4811-8e58-c4abb020401b",
   "metadata": {},
   "source": [
    "## Dataset Description"
   ]
  },
  {
   "cell_type": "markdown",
   "id": "85b244c7-383e-4e9c-bd29-4f58685fad3b",
   "metadata": {
    "jp-MarkdownHeadingCollapsed": true
   },
   "source": [
    "This dataset is derived from a GitHub project that scrapes data from the Brazilian Jiu-Jitsu (BJJ) Heroes website. The project's repository can be found at [https://github.com/bjagrelli/bjj_data_scrapping](https://github.com/bjagrelli/bjj_data_scrapping). The dataset contains detailed information about BJJ matches and fighters.\n",
    "\n",
    "### Columns:\n",
    "\n",
    "- **ID**: Unique identifier for each record.\n",
    "- **First Name**: Fighter's first name.\n",
    "- **Last Name**: Fighter's last name.\n",
    "- **Nickname**: Fighter's nickname.\n",
    "- **Team**: Fighter's team or club.\n",
    "- **Id**: Unique ID for the fighter.\n",
    "- **Opponent**: Name of the fighter's opponent.\n",
    "- **W/L**: Win or Loss status for the fighter.\n",
    "- **Method**: Method of victory or defeat.\n",
    "- **Competition**: Name of the BJJ competition.\n",
    "- **Weight**: Weight category of the match.\n",
    "- **Stage**: Stage of the competition (e.g., final, semifinal).\n",
    "- **Year**: Year of the match.\n",
    "- **Full Name**: Full name of the fighter.\n",
    "- **Win**: Binary indicator of win (1) or loss (0).\n",
    "- **Win_Streak**: Number of consecutive wins up to that match.\n",
    "\n",
    "### Purpose:\n",
    "\n",
    "The dataset is intended for analysis of BJJ match outcomes, fighters' performance, and competition trends. It is suitable for statistical analysis, pattern recognition, and historical data review in the context of martial arts research.\n"
   ]
  },
  {
   "cell_type": "markdown",
   "id": "f079674d-aec3-4489-a0a7-660d100626ab",
   "metadata": {},
   "source": [
    "## Data Cleaning"
   ]
  },
  {
   "cell_type": "markdown",
   "id": "e0710916-b13d-429a-bd8e-6b9e0276610d",
   "metadata": {},
   "source": [
    "### Initial Data State\n",
    "The initial dataset obtained from the web scraping of the BJJ Heroes website was structured in a limited and condensed format. Specifically, the data was split into only 5 columns, making it difficult to analyze and extract meaningful insights directly. The columns were not distinctly separated, with multiple pieces of information combined in single columns.\n",
    "\n",
    "#### Transformation Process\n",
    "To make the dataset more suitable for analysis, the following transformation steps were taken:\n",
    "\n",
    "1. **Splitting Combined Data**: Data in single columns was split into multiple columns for better clarity and structure.\n",
    "2. **Renaming Columns**: Columns were renamed to accurately represent the data they contained.\n",
    "3. **Handling Missing Data**: Where applicable, missing data was identified and handled appropriately.\n",
    "\n",
    "The Python code used for this transformation is provided below:\n"
   ]
  },
  {
   "cell_type": "code",
   "execution_count": 2,
   "id": "e2e3bec0-77ba-462f-9a8a-901ac471fa40",
   "metadata": {},
   "outputs": [],
   "source": [
    "# Re-load the new data\n",
    "data_new = pd.read_csv(\"data_new_sep.csv\")"
   ]
  },
  {
   "cell_type": "code",
   "execution_count": 3,
   "id": "3b0b2cc5-3c80-4326-a9aa-a68d93e3f025",
   "metadata": {},
   "outputs": [],
   "source": [
    "# Correct the column names first, assuming the first column is 'Link' which needs to be removed\n",
    "data_new.columns = ['Link', 'Name', 'Sub', 'Unused1', 'Unused2']"
   ]
  },
  {
   "cell_type": "code",
   "execution_count": 4,
   "id": "6e5f36a3-a294-46ea-b5a2-aa9ed836833d",
   "metadata": {},
   "outputs": [],
   "source": [
    "# Dropping the 'Link' column from the DataFrame\n",
    "data_new.drop('Link', axis=1, inplace=True)"
   ]
  },
  {
   "cell_type": "code",
   "execution_count": 5,
   "id": "f14f3194-d278-47c5-92da-e4f6594a5103",
   "metadata": {},
   "outputs": [],
   "source": [
    "# Splitting 'Name' column\n",
    "split_name = data_new['Name'].str.split('|', expand=True)\n",
    "data_new['First Name'] = split_name[0]\n",
    "data_new['Last Name'] = split_name[1]\n",
    "data_new['Nickname'] = split_name[2]\n",
    "data_new['Team'] = split_name[3]"
   ]
  },
  {
   "cell_type": "code",
   "execution_count": 6,
   "id": "540ef12f-7947-4a97-a37f-6dbce38a0710",
   "metadata": {},
   "outputs": [],
   "source": [
    "# Splitting 'Sub' column\n",
    "split_sub = data_new['Sub'].str.split(\"|\", expand=True)\n",
    "data_new[['Id', 'Opponent', 'W/L', 'Method', 'Competition', 'Weight', 'Stage', 'Year']] = split_sub"
   ]
  },
  {
   "cell_type": "code",
   "execution_count": 7,
   "id": "2f9f6743-9259-47b9-b857-e8258b8d1875",
   "metadata": {},
   "outputs": [],
   "source": [
    "def parse_method(method):\n",
    "    if pd.isna(method):\n",
    "        return method, None, None\n",
    "\n",
    "    # Initial values for points and advantage\n",
    "    points, advantage = None, None\n",
    "\n",
    "    # Handling cases where 'Pts:' or 'Adv' is in the method\n",
    "    if 'Pts:' in method:\n",
    "        method_parts = method.split('Pts:', 1)\n",
    "        method = 'Points'\n",
    "        points_part = method_parts[1].strip()\n",
    "\n",
    "        if ', Adv' in points_part:\n",
    "            points, advantage = points_part.split(', ', 1)\n",
    "        else:\n",
    "            points = points_part\n",
    "\n",
    "    elif method.strip() == 'Adv':\n",
    "        method = 'Advantage'\n",
    "        advantage = 'Adv'\n",
    "\n",
    "    # Handling other methods\n",
    "    else:\n",
    "        method = method.strip()\n",
    "        if method == 'Points':\n",
    "            method = 'Points'\n",
    "            points = 'Points'\n",
    "        elif method == 'Adv':\n",
    "            method = 'Advantage'\n",
    "            advantage = 'Advantage'\n",
    "\n",
    "    return method, points, advantage"
   ]
  },
  {
   "cell_type": "code",
   "execution_count": 8,
   "id": "e3821857-84e8-45de-8477-a02e6864c91f",
   "metadata": {},
   "outputs": [],
   "source": [
    "# Apply the function to each row and create new columns\n",
    "data_new[['Method', 'Points', 'Advantage']] = data_new.apply(lambda row: pd.Series(parse_method(row['Method'])), axis=1)"
   ]
  },
  {
   "cell_type": "code",
   "execution_count": 9,
   "id": "335115cf-ca11-47b1-8e0b-8dc8726907ef",
   "metadata": {},
   "outputs": [],
   "source": [
    "# Dropping unused columns\n",
    "data_new.drop(columns=['Name', 'Sub', 'Unused1', 'Unused2'], inplace=True)"
   ]
  },
  {
   "cell_type": "code",
   "execution_count": 10,
   "id": "40af739d-c55b-487c-9ef0-a8e84dc92757",
   "metadata": {},
   "outputs": [],
   "source": [
    "# Move the 'Id' column to the first position\n",
    "cols = ['Id'] + [col for col in data_new if col != 'Id']\n",
    "data_new = data_new[cols]"
   ]
  },
  {
   "cell_type": "code",
   "execution_count": 11,
   "id": "77a4682c-219f-42bc-ad0a-086b7972e4bb",
   "metadata": {
    "scrolled": true
   },
   "outputs": [
    {
     "data": {
      "text/html": [
       "<div>\n",
       "<style scoped>\n",
       "    .dataframe tbody tr th:only-of-type {\n",
       "        vertical-align: middle;\n",
       "    }\n",
       "\n",
       "    .dataframe tbody tr th {\n",
       "        vertical-align: top;\n",
       "    }\n",
       "\n",
       "    .dataframe thead th {\n",
       "        text-align: right;\n",
       "    }\n",
       "</style>\n",
       "<table border=\"1\" class=\"dataframe\">\n",
       "  <thead>\n",
       "    <tr style=\"text-align: right;\">\n",
       "      <th></th>\n",
       "      <th>Id</th>\n",
       "      <th>First Name</th>\n",
       "      <th>Last Name</th>\n",
       "      <th>Nickname</th>\n",
       "      <th>Team</th>\n",
       "      <th>Opponent</th>\n",
       "      <th>W/L</th>\n",
       "      <th>Method</th>\n",
       "      <th>Competition</th>\n",
       "      <th>Weight</th>\n",
       "      <th>Stage</th>\n",
       "      <th>Year</th>\n",
       "      <th>Points</th>\n",
       "      <th>Advantage</th>\n",
       "    </tr>\n",
       "  </thead>\n",
       "  <tbody>\n",
       "    <tr>\n",
       "      <th>0</th>\n",
       "      <td>NaN</td>\n",
       "      <td>['Aarae', 'Alexander', '', 'Team Lloyd Irvin']</td>\n",
       "      <td>None</td>\n",
       "      <td>None</td>\n",
       "      <td>None</td>\n",
       "      <td>NaN</td>\n",
       "      <td>NaN</td>\n",
       "      <td>NaN</td>\n",
       "      <td>NaN</td>\n",
       "      <td>NaN</td>\n",
       "      <td>NaN</td>\n",
       "      <td>NaN</td>\n",
       "      <td>NaN</td>\n",
       "      <td>NaN</td>\n",
       "    </tr>\n",
       "    <tr>\n",
       "      <th>1</th>\n",
       "      <td>7672</td>\n",
       "      <td>Aaron</td>\n",
       "      <td>Johnson</td>\n",
       "      <td>Tex</td>\n",
       "      <td>Unity JJ</td>\n",
       "      <td>Quentin Rosensweig</td>\n",
       "      <td>L</td>\n",
       "      <td>Inside heel hook</td>\n",
       "      <td>Kakuto 5</td>\n",
       "      <td>ABS</td>\n",
       "      <td>SPF</td>\n",
       "      <td>2015</td>\n",
       "      <td>None</td>\n",
       "      <td>None</td>\n",
       "    </tr>\n",
       "    <tr>\n",
       "      <th>2</th>\n",
       "      <td>8190</td>\n",
       "      <td>Aaron</td>\n",
       "      <td>Johnson</td>\n",
       "      <td>Tex</td>\n",
       "      <td>Unity JJ</td>\n",
       "      <td>Neiman Gracie</td>\n",
       "      <td>L</td>\n",
       "      <td>RNC</td>\n",
       "      <td>NoGi Pan Ams</td>\n",
       "      <td>94KG</td>\n",
       "      <td>SF</td>\n",
       "      <td>2015</td>\n",
       "      <td>None</td>\n",
       "      <td>None</td>\n",
       "    </tr>\n",
       "    <tr>\n",
       "      <th>3</th>\n",
       "      <td>8785</td>\n",
       "      <td>Aaron</td>\n",
       "      <td>Johnson</td>\n",
       "      <td>Tex</td>\n",
       "      <td>Unity JJ</td>\n",
       "      <td>Richie MartinezRichie Martinez</td>\n",
       "      <td>L</td>\n",
       "      <td>Heel hook</td>\n",
       "      <td>Kakuto Challenge</td>\n",
       "      <td>ABS</td>\n",
       "      <td>SF</td>\n",
       "      <td>2015</td>\n",
       "      <td>None</td>\n",
       "      <td>None</td>\n",
       "    </tr>\n",
       "    <tr>\n",
       "      <th>4</th>\n",
       "      <td>9059</td>\n",
       "      <td>Aaron</td>\n",
       "      <td>Johnson</td>\n",
       "      <td>Tex</td>\n",
       "      <td>Unity JJ</td>\n",
       "      <td>Leo NogueiraLeo Nogueira</td>\n",
       "      <td>L</td>\n",
       "      <td>Points</td>\n",
       "      <td>Atlanta W. Open</td>\n",
       "      <td>94KG</td>\n",
       "      <td>SF</td>\n",
       "      <td>2016</td>\n",
       "      <td>Points</td>\n",
       "      <td>None</td>\n",
       "    </tr>\n",
       "  </tbody>\n",
       "</table>\n",
       "</div>"
      ],
      "text/plain": [
       "     Id                                      First Name Last Name Nickname  \\\n",
       "0   NaN  ['Aarae', 'Alexander', '', 'Team Lloyd Irvin']      None     None   \n",
       "1  7672                                           Aaron   Johnson      Tex   \n",
       "2  8190                                           Aaron   Johnson      Tex   \n",
       "3  8785                                           Aaron   Johnson      Tex   \n",
       "4  9059                                           Aaron   Johnson      Tex   \n",
       "\n",
       "       Team                        Opponent  W/L            Method  \\\n",
       "0      None                             NaN  NaN               NaN   \n",
       "1  Unity JJ              Quentin Rosensweig    L  Inside heel hook   \n",
       "2  Unity JJ                   Neiman Gracie    L               RNC   \n",
       "3  Unity JJ  Richie MartinezRichie Martinez    L         Heel hook   \n",
       "4  Unity JJ        Leo NogueiraLeo Nogueira    L            Points   \n",
       "\n",
       "        Competition Weight Stage  Year  Points Advantage  \n",
       "0               NaN    NaN   NaN   NaN     NaN       NaN  \n",
       "1          Kakuto 5    ABS   SPF  2015    None      None  \n",
       "2      NoGi Pan Ams   94KG    SF  2015    None      None  \n",
       "3  Kakuto Challenge    ABS    SF  2015    None      None  \n",
       "4   Atlanta W. Open   94KG    SF  2016  Points      None  "
      ]
     },
     "execution_count": 11,
     "metadata": {},
     "output_type": "execute_result"
    }
   ],
   "source": [
    "# Display the processed data\n",
    "data_new.head()"
   ]
  },
  {
   "cell_type": "markdown",
   "id": "ca3cc360-a2a1-4064-8ecc-9b9304832adf",
   "metadata": {},
   "source": [
    "#### Parsing Match Outcome Methods\n",
    "\n",
    "The `parse_method` function is employed to parse the 'Method' column, which describes the outcome of a Brazilian Jiu-Jitsu match. This function is responsible for extracting and segregating the data into two new columns: 'Points' and 'Advantage'. Here's the detailed logic of the function:\n",
    "\n",
    "1. **Missing Values**: If the 'Method' entry is missing (NaN), both 'Points' and 'Advantage' are assigned `None`.\n",
    "\n",
    "2. **Detailed Points Victory**: If the 'Method' includes 'Pts:' with details (e.g., \"Pts: 2x0\"), this denotes a victory by a specific point difference. The function extracts this detailed score into the 'Points' column.\n",
    "\n",
    "   - When ', Adv' follows the point details (e.g., \"Pts: 2x2, Adv\"), it indicates a victory by advantage despite a tied score. The function parses the score into the 'Points' column and 'Adv' into the 'Advantage' column.\n",
    "\n",
    "3. **Victory by Advantage with No Specific Points**: If 'Method' is just 'Adv', it indicates a win by advantage where the exact points are not provided. Here, 'Points' remains `None` as no specific score is available, and 'Advantage' is set to 'Adv'.\n",
    "\n",
    "4. **Victory by Submission**: If the 'Method' specifies a submission technique, this implies a win by submission. Consequently, both 'Points' and 'Advantage' columns will be set to `None`.\n",
    "\n",
    "5. **Victory by Points with No Specific Score**: When 'Method' contains only \"Points\" without further scoring details, it suggests a win on points where the precise score was not recorded. The 'Points' column will be `None` to reflect the unavailability of the score, and 'Advantage' will also be `None`.\n",
    "\n",
    "By employing this function, the 'Method' column is effectively transformed into a structured and analytically useful format, facilitating a more straightforward assessment of the match outcomes.\n"
   ]
  },
  {
   "cell_type": "code",
   "execution_count": 12,
   "id": "6051ea7d-ffb3-4cb3-9d01-314ace4c6dfb",
   "metadata": {},
   "outputs": [],
   "source": [
    "# Function to check for repeated substrings in a string\n",
    "def remove_repeated_substrings(s):\n",
    "    if pd.isna(s):\n",
    "        return s\n",
    "    else:\n",
    "        # Find all substrings\n",
    "        substrings = [s[i: j] for i in range(len(s)) for j in range(i + 1, len(s) + 1)]\n",
    "        \n",
    "        # Sort substrings by length in descending order\n",
    "        substrings.sort(key=len, reverse=True)\n",
    "        \n",
    "        # Check each substring\n",
    "        for substring in substrings:\n",
    "            # If the substring is repeated and is not a single character\n",
    "            if s.count(substring) > 1 and len(substring) > 1:\n",
    "                # Replace all instances of the repeated substring with a single instance\n",
    "                s = s.replace(substring, substring, 1)\n",
    "        return s"
   ]
  },
  {
   "cell_type": "code",
   "execution_count": 13,
   "id": "fd8b4792-16e0-480a-a4b5-70d6fc2c2d6f",
   "metadata": {},
   "outputs": [],
   "source": [
    "# Apply the function to 'Opponent'\n",
    "data_new['Opponent'] = data_new['Opponent'].apply(remove_repeated_substrings)"
   ]
  },
  {
   "cell_type": "code",
   "execution_count": 14,
   "id": "7ac865af-f2bd-4d82-9f3a-615dfc419527",
   "metadata": {},
   "outputs": [],
   "source": [
    "# Strip unwanted characters from string columns\n",
    "strip_cols = ['First Name', 'Last Name', 'Nickname', 'Team']\n",
    "data_new[strip_cols] = data_new[strip_cols].apply(lambda x: x.str.strip(\" '[],\"))"
   ]
  },
  {
   "cell_type": "code",
   "execution_count": 15,
   "id": "c1491af6-4e9a-4336-ae9a-0928d7376b0a",
   "metadata": {},
   "outputs": [],
   "source": [
    "# Combine 'First Name' and 'Last Name' into 'Full Name'\n",
    "data_new['Full Name'] = data_new['First Name'] + ' ' + data_new['Last Name']"
   ]
  },
  {
   "cell_type": "code",
   "execution_count": 16,
   "id": "a0a8845b-afa3-4a64-895c-4a056ed444ae",
   "metadata": {},
   "outputs": [],
   "source": [
    "# Removing rows where the year is NaN or 0 \n",
    "data_new['Year'] = data_new['Year'].replace(0, np.nan)\n",
    "\n",
    "# Removing rows with NaN in 'Year'\n",
    "data_new = data_new.dropna(subset=['Year'])\n",
    "data_new['Year'] = data_new['Year'].astype(int)\n"
   ]
  },
  {
   "cell_type": "code",
   "execution_count": 17,
   "id": "65ce79d1",
   "metadata": {},
   "outputs": [],
   "source": [
    "# Removing 'O' from some Weight class entries\n",
    "data_new['Weight'] = data_new['Weight'].str.replace('^O', '', regex=True)"
   ]
  },
  {
   "cell_type": "code",
   "execution_count": 18,
   "id": "8a52842f",
   "metadata": {},
   "outputs": [],
   "source": [
    "# Convert 'W/L' to numeric values: 1 for 'W' and 0 for 'L'\n",
    "data_new['W/L'] = data_new['W/L'].map({'W': 1, 'L': 0})"
   ]
  },
  {
   "cell_type": "code",
   "execution_count": 19,
   "id": "ac5bd5c9",
   "metadata": {},
   "outputs": [],
   "source": [
    "pattern = r'KG|NA|N/A|n/a|ABS'\n",
    "data_new = data_new[~data_new['Stage'].str.contains(pattern, na=False, regex=True)]"
   ]
  },
  {
   "cell_type": "code",
   "execution_count": 20,
   "id": "a19874a8",
   "metadata": {},
   "outputs": [],
   "source": [
    "# Define the specific weight classes you want to keep\n",
    "specific_weights = ['ABS', 'HWA', 'HWAABS', 'SPF']\n",
    "\n",
    "# Filter the DataFrame\n",
    "# Keep rows where 'Weight' matches the pattern (number + 'KG') or is in the specific weight classes\n",
    "data_new = data_new[\n",
    "    data_new['Weight'].str.contains(r'^\\d+KG$', na=False) | data_new['Weight'].isin(specific_weights)\n",
    "]"
   ]
  },
  {
   "cell_type": "code",
   "execution_count": 21,
   "id": "fb2ac42f-705b-42c9-8805-a5b793173da9",
   "metadata": {},
   "outputs": [],
   "source": [
    "# Removing rows where Opponents name is \"Unknown\"\n",
    "data_new = data_new[data_new['Opponent'] != 'Unknown']\n"
   ]
  },
  {
   "cell_type": "code",
   "execution_count": 22,
   "id": "508868fb-80a6-4c67-9e38-9586f46a3ccb",
   "metadata": {},
   "outputs": [],
   "source": [
    "# Removing rows where Submission is \"N/A\" or \"submission\"\n",
    "data_new = data_new[(data_new['Method'] != 'N/A') & (data_new['Method'] != '---')]"
   ]
  },
  {
   "cell_type": "code",
   "execution_count": 23,
   "id": "690bbe74-9fa7-4ac9-94e9-dc04d5107528",
   "metadata": {},
   "outputs": [],
   "source": [
    "# Define critical columns\n",
    "critical_columns = ['Year', 'Method', 'Opponent', 'First Name', 'Last Name']"
   ]
  },
  {
   "cell_type": "code",
   "execution_count": 24,
   "id": "cb969342-4bfa-49c4-a2cf-88bdba91f559",
   "metadata": {},
   "outputs": [],
   "source": [
    "data_new = (data_new\n",
    "                .dropna(subset=critical_columns)\n",
    "                .drop_duplicates())"
   ]
  },
  {
   "cell_type": "code",
   "execution_count": 25,
   "id": "431d975f-ba41-495c-b8cf-3831152579df",
   "metadata": {},
   "outputs": [
    {
     "data": {
      "text/html": [
       "<div>\n",
       "<style scoped>\n",
       "    .dataframe tbody tr th:only-of-type {\n",
       "        vertical-align: middle;\n",
       "    }\n",
       "\n",
       "    .dataframe tbody tr th {\n",
       "        vertical-align: top;\n",
       "    }\n",
       "\n",
       "    .dataframe thead th {\n",
       "        text-align: right;\n",
       "    }\n",
       "</style>\n",
       "<table border=\"1\" class=\"dataframe\">\n",
       "  <thead>\n",
       "    <tr style=\"text-align: right;\">\n",
       "      <th></th>\n",
       "      <th>Id</th>\n",
       "      <th>First Name</th>\n",
       "      <th>Last Name</th>\n",
       "      <th>Nickname</th>\n",
       "      <th>Team</th>\n",
       "      <th>Opponent</th>\n",
       "      <th>W/L</th>\n",
       "      <th>Method</th>\n",
       "      <th>Competition</th>\n",
       "      <th>Weight</th>\n",
       "      <th>Stage</th>\n",
       "      <th>Year</th>\n",
       "      <th>Points</th>\n",
       "      <th>Advantage</th>\n",
       "      <th>Full Name</th>\n",
       "    </tr>\n",
       "  </thead>\n",
       "  <tbody>\n",
       "    <tr>\n",
       "      <th>1</th>\n",
       "      <td>7672</td>\n",
       "      <td>Aaron</td>\n",
       "      <td>Johnson</td>\n",
       "      <td>Tex</td>\n",
       "      <td>Unity JJ</td>\n",
       "      <td>Quentin Rosensweig</td>\n",
       "      <td>0.0</td>\n",
       "      <td>Inside heel hook</td>\n",
       "      <td>Kakuto 5</td>\n",
       "      <td>ABS</td>\n",
       "      <td>SPF</td>\n",
       "      <td>2015</td>\n",
       "      <td>None</td>\n",
       "      <td>None</td>\n",
       "      <td>Aaron Johnson</td>\n",
       "    </tr>\n",
       "    <tr>\n",
       "      <th>2</th>\n",
       "      <td>8190</td>\n",
       "      <td>Aaron</td>\n",
       "      <td>Johnson</td>\n",
       "      <td>Tex</td>\n",
       "      <td>Unity JJ</td>\n",
       "      <td>Neiman Gracie</td>\n",
       "      <td>0.0</td>\n",
       "      <td>RNC</td>\n",
       "      <td>NoGi Pan Ams</td>\n",
       "      <td>94KG</td>\n",
       "      <td>SF</td>\n",
       "      <td>2015</td>\n",
       "      <td>None</td>\n",
       "      <td>None</td>\n",
       "      <td>Aaron Johnson</td>\n",
       "    </tr>\n",
       "    <tr>\n",
       "      <th>3</th>\n",
       "      <td>8785</td>\n",
       "      <td>Aaron</td>\n",
       "      <td>Johnson</td>\n",
       "      <td>Tex</td>\n",
       "      <td>Unity JJ</td>\n",
       "      <td>Richie MartinezRichie Martinez</td>\n",
       "      <td>0.0</td>\n",
       "      <td>Heel hook</td>\n",
       "      <td>Kakuto Challenge</td>\n",
       "      <td>ABS</td>\n",
       "      <td>SF</td>\n",
       "      <td>2015</td>\n",
       "      <td>None</td>\n",
       "      <td>None</td>\n",
       "      <td>Aaron Johnson</td>\n",
       "    </tr>\n",
       "    <tr>\n",
       "      <th>4</th>\n",
       "      <td>9059</td>\n",
       "      <td>Aaron</td>\n",
       "      <td>Johnson</td>\n",
       "      <td>Tex</td>\n",
       "      <td>Unity JJ</td>\n",
       "      <td>Leo NogueiraLeo Nogueira</td>\n",
       "      <td>0.0</td>\n",
       "      <td>Points</td>\n",
       "      <td>Atlanta W. Open</td>\n",
       "      <td>94KG</td>\n",
       "      <td>SF</td>\n",
       "      <td>2016</td>\n",
       "      <td>Points</td>\n",
       "      <td>None</td>\n",
       "      <td>Aaron Johnson</td>\n",
       "    </tr>\n",
       "    <tr>\n",
       "      <th>7</th>\n",
       "      <td>9373</td>\n",
       "      <td>Aaron</td>\n",
       "      <td>Johnson</td>\n",
       "      <td>Tex</td>\n",
       "      <td>Unity JJ</td>\n",
       "      <td>Andre GalvaoAndre Galvao</td>\n",
       "      <td>0.0</td>\n",
       "      <td>Choke</td>\n",
       "      <td>Pan American</td>\n",
       "      <td>ABS</td>\n",
       "      <td>R2</td>\n",
       "      <td>2016</td>\n",
       "      <td>None</td>\n",
       "      <td>None</td>\n",
       "      <td>Aaron Johnson</td>\n",
       "    </tr>\n",
       "  </tbody>\n",
       "</table>\n",
       "</div>"
      ],
      "text/plain": [
       "     Id First Name Last Name Nickname      Team  \\\n",
       "1  7672      Aaron   Johnson      Tex  Unity JJ   \n",
       "2  8190      Aaron   Johnson      Tex  Unity JJ   \n",
       "3  8785      Aaron   Johnson      Tex  Unity JJ   \n",
       "4  9059      Aaron   Johnson      Tex  Unity JJ   \n",
       "7  9373      Aaron   Johnson      Tex  Unity JJ   \n",
       "\n",
       "                         Opponent  W/L            Method       Competition  \\\n",
       "1              Quentin Rosensweig  0.0  Inside heel hook          Kakuto 5   \n",
       "2                   Neiman Gracie  0.0               RNC      NoGi Pan Ams   \n",
       "3  Richie MartinezRichie Martinez  0.0         Heel hook  Kakuto Challenge   \n",
       "4        Leo NogueiraLeo Nogueira  0.0            Points   Atlanta W. Open   \n",
       "7        Andre GalvaoAndre Galvao  0.0             Choke      Pan American   \n",
       "\n",
       "  Weight Stage  Year  Points Advantage      Full Name  \n",
       "1    ABS   SPF  2015    None      None  Aaron Johnson  \n",
       "2   94KG    SF  2015    None      None  Aaron Johnson  \n",
       "3    ABS    SF  2015    None      None  Aaron Johnson  \n",
       "4   94KG    SF  2016  Points      None  Aaron Johnson  \n",
       "7    ABS    R2  2016    None      None  Aaron Johnson  "
      ]
     },
     "execution_count": 25,
     "metadata": {},
     "output_type": "execute_result"
    }
   ],
   "source": [
    "# Display the processed data\n",
    "data_new.head()"
   ]
  },
  {
   "cell_type": "code",
   "execution_count": 26,
   "id": "a71201ec-1f96-43f4-bfe0-69d474738256",
   "metadata": {},
   "outputs": [
    {
     "name": "stdout",
     "output_type": "stream",
     "text": [
      "Empty DataFrame\n",
      "Columns: [Id, First Name, Last Name, Nickname, Team, Opponent, W/L, Method, Competition, Weight, Stage, Year, Points, Advantage, Full Name]\n",
      "Index: []\n"
     ]
    }
   ],
   "source": [
    "# Create a mask for rows where any critical column has NaN or 'None'\n",
    "mask = data_new[critical_columns].isna().any(axis=1) | (data_new[critical_columns] == 'None').any(axis=1)\n",
    "\n",
    "# Query the DataFrame using the mask\n",
    "rows_with_nan_or_none = data_new[mask]\n",
    "\n",
    "print(rows_with_nan_or_none.head())\n",
    "data_frame = data_new\n"
   ]
  },
  {
   "cell_type": "markdown",
   "id": "16903276-bce4-4abf-b165-fec367e4585f",
   "metadata": {},
   "source": [
    "## Exploratory Data Analysis (EDA)"
   ]
  },
  {
   "cell_type": "markdown",
   "id": "c800bc85-56bb-4b78-843a-29a51338510a",
   "metadata": {},
   "source": [
    "## Descriptive Statistics"
   ]
  },
  {
   "cell_type": "markdown",
   "id": "48322918-51e8-41c1-8ac1-11059d5f7255",
   "metadata": {},
   "source": [
    "### Basic Descriptive Statistics"
   ]
  },
  {
   "cell_type": "code",
   "execution_count": 27,
   "id": "47e4a160-1a03-4d68-9382-7a095b6baa43",
   "metadata": {},
   "outputs": [
    {
     "name": "stdout",
     "output_type": "stream",
     "text": [
      "                W/L          Year\n",
      "count  39748.000000  39748.000000\n",
      "mean       0.699935   2017.737320\n",
      "std        0.458292      4.708811\n",
      "min        0.000000   1932.000000\n",
      "25%        0.000000   2016.000000\n",
      "50%        1.000000   2019.000000\n",
      "75%        1.000000   2021.000000\n",
      "max        1.000000   2023.000000\n"
     ]
    }
   ],
   "source": [
    "# Assuming 'data' is your DataFrame\n",
    "descriptive_stats = data_frame.describe()\n",
    "print(descriptive_stats)"
   ]
  },
  {
   "cell_type": "markdown",
   "id": "1419a934-d40b-4d66-9ef8-0143c687cab2",
   "metadata": {},
   "source": [
    "### Frequency Counts on Categorical Data"
   ]
  },
  {
   "cell_type": "code",
   "execution_count": 28,
   "id": "d86230d4-aa5d-4be4-98a6-bff3074ffd97",
   "metadata": {},
   "outputs": [
    {
     "name": "stdout",
     "output_type": "stream",
     "text": [
      "Method Counts:\n",
      " Method\n",
      "Points                 18980\n",
      "Referee Decision        3462\n",
      "Choke from back         2493\n",
      "Armbar                  2209\n",
      "RNC                     1308\n",
      "                       ...  \n",
      "Leg lock                   1\n",
      "Triangle/kimura            1\n",
      "Triangle wristlock         1\n",
      "Kimura f/ triangle         1\n",
      "Knee on belly/choke        1\n",
      "Name: count, Length: 264, dtype: int64\n",
      "\n",
      "Opponent Counts:\n",
      " Opponent\n",
      "Leandro LoLeandro Lo            199\n",
      "Fellipe AndrewFellipe Andrew    163\n",
      "Gianni GrippoGianni Grippo      156\n",
      "Erberth SantosErberth Santos    155\n",
      "Lucas BarbosaLucas Barbosa      149\n",
      "                               ... \n",
      "Chris Ilagan                      1\n",
      "Caio Rodrigues                    1\n",
      "Ygor Holanda                      1\n",
      "Gianni Criello                    1\n",
      "Kevin Vieira                      1\n",
      "Name: count, Length: 8811, dtype: int64\n"
     ]
    }
   ],
   "source": [
    "method_counts = data_frame['Method'].value_counts()\n",
    "opponent_counts = data_frame['Opponent'].value_counts()\n",
    "print(\"Method Counts:\\n\", method_counts)\n",
    "print(\"\\nOpponent Counts:\\n\", opponent_counts)\n"
   ]
  },
  {
   "cell_type": "markdown",
   "id": "b04e2b24-ba20-449e-b162-5841f94a22a7",
   "metadata": {},
   "source": [
    "### Missing Value Analysis"
   ]
  },
  {
   "cell_type": "code",
   "execution_count": 29,
   "id": "2a48a317-289c-4fe9-bc60-592c6ea433e0",
   "metadata": {},
   "outputs": [
    {
     "name": "stdout",
     "output_type": "stream",
     "text": [
      "Id                 0\n",
      "First Name         0\n",
      "Last Name          0\n",
      "Nickname           0\n",
      "Team               0\n",
      "Opponent           0\n",
      "W/L                0\n",
      "Method             0\n",
      "Competition        0\n",
      "Weight             0\n",
      "Stage              0\n",
      "Year               0\n",
      "Points         20768\n",
      "Advantage      35919\n",
      "Full Name          0\n",
      "dtype: int64\n",
      "Id              0.000000\n",
      "First Name      0.000000\n",
      "Last Name       0.000000\n",
      "Nickname        0.000000\n",
      "Team            0.000000\n",
      "Opponent        0.000000\n",
      "W/L             0.000000\n",
      "Method          0.000000\n",
      "Competition     0.000000\n",
      "Weight          0.000000\n",
      "Stage           0.000000\n",
      "Year            0.000000\n",
      "Points         52.249170\n",
      "Advantage      90.366811\n",
      "Full Name       0.000000\n",
      "dtype: float64\n"
     ]
    }
   ],
   "source": [
    "missing_values = data_frame.isnull().sum()\n",
    "missing_percentage = (missing_values / len(data_frame)) * 100\n",
    "print(missing_values)\n",
    "print(missing_percentage)"
   ]
  },
  {
   "cell_type": "markdown",
   "id": "5172cd66-d664-4c23-a051-a74bbe257e87",
   "metadata": {},
   "source": [
    "### Data Distributions"
   ]
  },
  {
   "cell_type": "code",
   "execution_count": 30,
   "id": "b878ec14-f3fb-4dc6-802a-0ec818e2afff",
   "metadata": {},
   "outputs": [
    {
     "data": {
      "image/png": "[encoded data removed]",
      "text/plain": [
       "<Figure size 1500x600 with 1 Axes>"
      ]
     },
     "metadata": {},
     "output_type": "display_data"
    },
    {
     "data": {
      "image/png": "[encoded data removed]",
      "text/plain": [
       "<Figure size 3000x600 with 1 Axes>"
      ]
     },
     "metadata": {},
     "output_type": "display_data"
    }
   ],
   "source": [
    "sampled_data = data_frame.sample(n=1000)\n",
    "\n",
    "plt.figure(figsize=(15, 6))\n",
    "sampled_data['Year'].hist(bins=50)\n",
    "plt.title('Distribution of Years (Sampled)')\n",
    "plt.xlabel('Year')\n",
    "plt.ylabel('Frequency')\n",
    "plt.show()\n",
    "\n",
    "\n",
    "# Adjusting the width of the Box Plot\n",
    "plt.figure(figsize=(30, 6))  # Adjust the size as needed\n",
    "sns.boxplot(x=data_frame['Year'])\n",
    "plt.title('Box Plot of Years')\n",
    "plt.xlabel('Year')\n",
    "plt.show()"
   ]
  },
  {
   "cell_type": "markdown",
   "id": "d7d2aff2",
   "metadata": {},
   "source": [
    "### Statistical Analysis of Match Points\n",
    "\n",
    "We now perform a statistical analysis on the points scored in matches. This includes calculating descriptive statistics for points scored by winners and losers in matches decided by points."
   ]
  },
  {
   "cell_type": "code",
   "execution_count": 31,
   "id": "28390d4f",
   "metadata": {},
   "outputs": [],
   "source": [
    "# Filtering for matches decided by points and calculating statistics\n",
    "# points_matches = adcc_df[adcc_df['win_type'] == 'POINTS']\n",
    "# winner_points_stats = points_matches['winner_points'].describe()\n",
    "# loser_points_stats = points_matches['loser_points'].describe()\n",
    "\n",
    "# Displaying the statistics\n",
    "# print(\"Winner Points Statistics:\")\n",
    "# print(winner_points_stats)\n",
    "# print(\"\\nLoser Points Statistics:\")\n",
    "# print(loser_points_stats)"
   ]
  },
  {
   "cell_type": "markdown",
   "id": "1611bc66",
   "metadata": {},
   "source": [
    "## Question Formation"
   ]
  },
  {
   "cell_type": "markdown",
   "id": "a08b9418-d59b-41e7-a6a4-607c34ed6cd8",
   "metadata": {},
   "source": [
    "### General Analysis"
   ]
  },
  {
   "cell_type": "markdown",
   "id": "1d4c734e-e7c0-49dc-9c59-e142f6083388",
   "metadata": {},
   "source": [
    "#### How has the frequency of competitions changed over the years?"
   ]
  },
  {
   "cell_type": "code",
   "execution_count": 32,
   "id": "69c6da61-a34d-46c4-971e-0061911740e3",
   "metadata": {},
   "outputs": [
    {
     "data": {
      "image/png": "[encoded data removed]",
      "text/plain": [
       "<Figure size 1000x600 with 1 Axes>"
      ]
     },
     "metadata": {},
     "output_type": "display_data"
    }
   ],
   "source": [
    "# Grouping by 'Year' and counting the number of competitions\n",
    "competitions_per_year = data_frame.groupby('Year').size()\n",
    "\n",
    "\n",
    "plt.figure(figsize=(10, 6))\n",
    "competitions_per_year.plot(kind='line')\n",
    "plt.title('Frequency of Competitions Over the Years')\n",
    "plt.xlabel('Year')\n",
    "plt.ylabel('Number of Competitions')\n",
    "\n",
    "plt.show()\n",
    "\n"
   ]
  },
  {
   "cell_type": "markdown",
   "id": "c76b9e87-5ccc-42f7-aaf4-d7a15bee6cb6",
   "metadata": {},
   "source": [
    "#### Which teams have the highest win/loss ratio"
   ]
  },
  {
   "cell_type": "code",
   "execution_count": 33,
   "id": "734341ae",
   "metadata": {},
   "outputs": [
    {
     "ename": "IndexError",
     "evalue": "index 0 is out of bounds for axis 0 with size 0",
     "output_type": "error",
     "traceback": [
      "\u001b[1;31m---------------------------------------------------------------------------\u001b[0m",
      "\u001b[1;31mIndexError\u001b[0m                                Traceback (most recent call last)",
      "Cell \u001b[1;32mIn[33], line 10\u001b[0m\n\u001b[0;32m      8\u001b[0m \u001b[38;5;66;03m# Sorting and displaying the top 10 teams with highest win/loss ratio\u001b[39;00m\n\u001b[0;32m      9\u001b[0m top_teams \u001b[38;5;241m=\u001b[39m win_loss_ratio\u001b[38;5;241m.\u001b[39msort_values(ascending\u001b[38;5;241m=\u001b[39m\u001b[38;5;28;01mFalse\u001b[39;00m)\u001b[38;5;241m.\u001b[39mhead(\u001b[38;5;241m10\u001b[39m)\n\u001b[1;32m---> 10\u001b[0m \u001b[43mtop_teams\u001b[49m\u001b[38;5;241;43m.\u001b[39;49m\u001b[43mplot\u001b[49m\u001b[43m(\u001b[49m\u001b[43mkind\u001b[49m\u001b[38;5;241;43m=\u001b[39;49m\u001b[38;5;124;43m'\u001b[39;49m\u001b[38;5;124;43mbar\u001b[39;49m\u001b[38;5;124;43m'\u001b[39;49m\u001b[43m)\u001b[49m\n\u001b[0;32m     11\u001b[0m plt\u001b[38;5;241m.\u001b[39mtitle(\u001b[38;5;124m'\u001b[39m\u001b[38;5;124mTop 10 Teams with Highest Win/Loss Ratio\u001b[39m\u001b[38;5;124m'\u001b[39m)\n\u001b[0;32m     12\u001b[0m plt\u001b[38;5;241m.\u001b[39mxlabel(\u001b[38;5;124m'\u001b[39m\u001b[38;5;124mTeam\u001b[39m\u001b[38;5;124m'\u001b[39m)\n",
      "File \u001b[1;32m~\\AppData\\Local\\Programs\\Python\\Python312\\Lib\\site-packages\\pandas\\plotting\\_core.py:1031\u001b[0m, in \u001b[0;36mPlotAccessor.__call__\u001b[1;34m(self, *args, **kwargs)\u001b[0m\n\u001b[0;32m   1028\u001b[0m             label_name \u001b[38;5;241m=\u001b[39m label_kw \u001b[38;5;129;01mor\u001b[39;00m data\u001b[38;5;241m.\u001b[39mcolumns\n\u001b[0;32m   1029\u001b[0m             data\u001b[38;5;241m.\u001b[39mcolumns \u001b[38;5;241m=\u001b[39m label_name\n\u001b[1;32m-> 1031\u001b[0m \u001b[38;5;28;01mreturn\u001b[39;00m \u001b[43mplot_backend\u001b[49m\u001b[38;5;241;43m.\u001b[39;49m\u001b[43mplot\u001b[49m\u001b[43m(\u001b[49m\u001b[43mdata\u001b[49m\u001b[43m,\u001b[49m\u001b[43m \u001b[49m\u001b[43mkind\u001b[49m\u001b[38;5;241;43m=\u001b[39;49m\u001b[43mkind\u001b[49m\u001b[43m,\u001b[49m\u001b[43m \u001b[49m\u001b[38;5;241;43m*\u001b[39;49m\u001b[38;5;241;43m*\u001b[39;49m\u001b[43mkwargs\u001b[49m\u001b[43m)\u001b[49m\n",
      "File \u001b[1;32m~\\AppData\\Local\\Programs\\Python\\Python312\\Lib\\site-packages\\pandas\\plotting\\_matplotlib\\__init__.py:71\u001b[0m, in \u001b[0;36mplot\u001b[1;34m(data, kind, **kwargs)\u001b[0m\n\u001b[0;32m     69\u001b[0m         kwargs[\u001b[38;5;124m\"\u001b[39m\u001b[38;5;124max\u001b[39m\u001b[38;5;124m\"\u001b[39m] \u001b[38;5;241m=\u001b[39m \u001b[38;5;28mgetattr\u001b[39m(ax, \u001b[38;5;124m\"\u001b[39m\u001b[38;5;124mleft_ax\u001b[39m\u001b[38;5;124m\"\u001b[39m, ax)\n\u001b[0;32m     70\u001b[0m plot_obj \u001b[38;5;241m=\u001b[39m PLOT_CLASSES[kind](data, \u001b[38;5;241m*\u001b[39m\u001b[38;5;241m*\u001b[39mkwargs)\n\u001b[1;32m---> 71\u001b[0m \u001b[43mplot_obj\u001b[49m\u001b[38;5;241;43m.\u001b[39;49m\u001b[43mgenerate\u001b[49m\u001b[43m(\u001b[49m\u001b[43m)\u001b[49m\n\u001b[0;32m     72\u001b[0m plot_obj\u001b[38;5;241m.\u001b[39mdraw()\n\u001b[0;32m     73\u001b[0m \u001b[38;5;28;01mreturn\u001b[39;00m plot_obj\u001b[38;5;241m.\u001b[39mresult\n",
      "File \u001b[1;32m~\\AppData\\Local\\Programs\\Python\\Python312\\Lib\\site-packages\\pandas\\plotting\\_matplotlib\\core.py:460\u001b[0m, in \u001b[0;36mMPLPlot.generate\u001b[1;34m(self)\u001b[0m\n\u001b[0;32m    458\u001b[0m \u001b[38;5;28;01mfor\u001b[39;00m ax \u001b[38;5;129;01min\u001b[39;00m \u001b[38;5;28mself\u001b[39m\u001b[38;5;241m.\u001b[39maxes:\n\u001b[0;32m    459\u001b[0m     \u001b[38;5;28mself\u001b[39m\u001b[38;5;241m.\u001b[39m_post_plot_logic_common(ax, \u001b[38;5;28mself\u001b[39m\u001b[38;5;241m.\u001b[39mdata)\n\u001b[1;32m--> 460\u001b[0m     \u001b[38;5;28;43mself\u001b[39;49m\u001b[38;5;241;43m.\u001b[39;49m\u001b[43m_post_plot_logic\u001b[49m\u001b[43m(\u001b[49m\u001b[43max\u001b[49m\u001b[43m,\u001b[49m\u001b[43m \u001b[49m\u001b[38;5;28;43mself\u001b[39;49m\u001b[38;5;241;43m.\u001b[39;49m\u001b[43mdata\u001b[49m\u001b[43m)\u001b[49m\n",
      "File \u001b[1;32m~\\AppData\\Local\\Programs\\Python\\Python312\\Lib\\site-packages\\pandas\\plotting\\_matplotlib\\core.py:1757\u001b[0m, in \u001b[0;36mBarPlot._post_plot_logic\u001b[1;34m(self, ax, data)\u001b[0m\n\u001b[0;32m   1754\u001b[0m \u001b[38;5;28;01melse\u001b[39;00m:\n\u001b[0;32m   1755\u001b[0m     str_index \u001b[38;5;241m=\u001b[39m [pprint_thing(key) \u001b[38;5;28;01mfor\u001b[39;00m key \u001b[38;5;129;01min\u001b[39;00m \u001b[38;5;28mrange\u001b[39m(data\u001b[38;5;241m.\u001b[39mshape[\u001b[38;5;241m0\u001b[39m])]\n\u001b[1;32m-> 1757\u001b[0m s_edge \u001b[38;5;241m=\u001b[39m \u001b[38;5;28;43mself\u001b[39;49m\u001b[38;5;241;43m.\u001b[39;49m\u001b[43max_pos\u001b[49m\u001b[43m[\u001b[49m\u001b[38;5;241;43m0\u001b[39;49m\u001b[43m]\u001b[49m \u001b[38;5;241m-\u001b[39m \u001b[38;5;241m0.25\u001b[39m \u001b[38;5;241m+\u001b[39m \u001b[38;5;28mself\u001b[39m\u001b[38;5;241m.\u001b[39mlim_offset\n\u001b[0;32m   1758\u001b[0m e_edge \u001b[38;5;241m=\u001b[39m \u001b[38;5;28mself\u001b[39m\u001b[38;5;241m.\u001b[39max_pos[\u001b[38;5;241m-\u001b[39m\u001b[38;5;241m1\u001b[39m] \u001b[38;5;241m+\u001b[39m \u001b[38;5;241m0.25\u001b[39m \u001b[38;5;241m+\u001b[39m \u001b[38;5;28mself\u001b[39m\u001b[38;5;241m.\u001b[39mbar_width \u001b[38;5;241m+\u001b[39m \u001b[38;5;28mself\u001b[39m\u001b[38;5;241m.\u001b[39mlim_offset\n\u001b[0;32m   1760\u001b[0m \u001b[38;5;28mself\u001b[39m\u001b[38;5;241m.\u001b[39m_decorate_ticks(ax, \u001b[38;5;28mself\u001b[39m\u001b[38;5;241m.\u001b[39m_get_index_name(), str_index, s_edge, e_edge)\n",
      "\u001b[1;31mIndexError\u001b[0m: index 0 is out of bounds for axis 0 with size 0"
     ]
    },
    {
     "data": {
      "image/png": "[encoded data removed]",
      "text/plain": [
       "<Figure size 640x480 with 1 Axes>"
      ]
     },
     "metadata": {},
     "output_type": "display_data"
    }
   ],
   "source": [
    "# Calculating wins and losses for each team\n",
    "wins = data_frame[data_frame['W/L'] == 'W'].groupby('Team').size()\n",
    "losses = data_frame[data_frame['W/L'] == 'L'].groupby('Team').size()\n",
    "\n",
    "# Calculating win/loss ratio\n",
    "win_loss_ratio = wins / losses\n",
    "\n",
    "# Sorting and displaying the top 10 teams with highest win/loss ratio\n",
    "top_teams = win_loss_ratio.sort_values(ascending=False).head(10)\n",
    "top_teams.plot(kind='bar')\n",
    "plt.title('Top 10 Teams with Highest Win/Loss Ratio')\n",
    "plt.xlabel('Team')\n",
    "plt.ylabel('Win/Loss Ratio')\n",
    "plt.show()\n"
   ]
  },
  {
   "cell_type": "markdown",
   "id": "4ffbaafe-9791-4eaf-935c-2a91352da9f1",
   "metadata": {},
   "source": [
    "#### What are the most comming winning methods"
   ]
  },
  {
   "cell_type": "code",
   "execution_count": null,
   "id": "e12d73a7",
   "metadata": {},
   "outputs": [],
   "source": [
    "# Filter out 'Points', 'Referee Decision', 'Submission','Advantage', 'DQ', and 'EBI/OT' from the 'Method' column\n",
    "filtered_methods = data_frame[(data_frame['Method'] != 'Points') & \n",
    "                              (data_frame['Method'] != 'Referee Decision') & \n",
    "                              (data_frame['Method'] != 'Submission') & \n",
    "                              (data_frame['Method'] != 'Advantage') &\n",
    "                              (data_frame['Method'] != 'DQ') &\n",
    "                              (data_frame['Method'] != 'EBI/OT')]\n",
    " \n",
    "# Counting the frequency of each submission type\n",
    "submission_counts = filtered_methods['Method'].value_counts().head(15)\n",
    "\n",
    "# Plotting the submission counts\n",
    "import matplotlib.pyplot as plt\n",
    "\n",
    "plt.figure(figsize=(10, 6))\n",
    "submission_counts.plot(kind='bar', color='skyblue')\n",
    "plt.title(\"Most Popular Submissions\")\n",
    "plt.xlabel(\"Submission Type\")\n",
    "plt.ylabel(\"Number of Occurrences\")\n",
    "plt.grid(axis='y')\n",
    "plt.tight_layout()\n",
    "plt.show()\n",
    "\n",
    "submission_counts.head(10)"
   ]
  },
  {
   "cell_type": "markdown",
   "id": "0803026b-9d89-4a6b-8ff7-78e209d99078",
   "metadata": {},
   "source": [
    "### Participant-Focused Analysis"
   ]
  },
  {
   "cell_type": "markdown",
   "id": "2306c288-9c3c-4310-b8ba-6cdb721d5eaf",
   "metadata": {},
   "source": [
    "#### Who are the top preformers in terms of wins?"
   ]
  },
  {
   "cell_type": "code",
   "execution_count": null,
   "id": "e7fc9091",
   "metadata": {},
   "outputs": [],
   "source": [
    "# Counting wins for each participant\n",
    "win_counts = data_frame[data_frame['W/L'] == 'W'].groupby('Full Name').size()\n",
    "\n",
    "# Sorting to find top performers\n",
    "top_performers = win_counts.sort_values(ascending=False).head(10)\n",
    "\n",
    "# Plotting\n",
    "plt.figure(figsize=(10, 6))\n",
    "top_performers.plot(kind='bar')\n",
    "plt.title('Top 10 Performers with Most Wins')\n",
    "plt.xlabel('Participant')\n",
    "plt.ylabel('Number of Wins')\n",
    "plt.show()\n"
   ]
  },
  {
   "cell_type": "markdown",
   "id": "efc27b58-997c-43c2-a949-5309b017e7e2",
   "metadata": {},
   "source": [
    "#### Does the 'Stage' of competition affect the likelihood of certain outcomes?"
   ]
  },
  {
   "cell_type": "code",
   "execution_count": null,
   "id": "1933f32a",
   "metadata": {},
   "outputs": [],
   "source": [
    "\n",
    "stage_outcomes = data_frame.groupby(['Stage', 'W/L']).size().unstack()\n",
    "\n",
    "# Plotting the stacked bar chart\n",
    "stage_outcomes.plot(kind='bar', stacked=True, figsize=(15, 7))\n",
    "plt.title('Win/Loss Distribution by Competition Stage')\n",
    "plt.xlabel('Competition Stage')\n",
    "plt.ylabel('Number of Matches')\n",
    "plt.legend(title='Outcome')\n",
    "plt.show()\n"
   ]
  },
  {
   "cell_type": "markdown",
   "id": "21196b3f",
   "metadata": {},
   "source": [
    "#### Win/Loss Distribution by Competition Stage\n",
    "\n",
    "The provided bar chart illustrates the number of wins (W) and losses (L) across different competition stages, designated by abbreviations on the x-axis. Key observations include:\n",
    "\n",
    "- **Variation in Match Counts**: There is a notable variation in the number of matches across stages, with some stages showing a significantly higher count of wins.\n",
    "- **Outcome Representation**: Wins are depicted in orange and losses in blue. In most stages, wins outnumber losses.\n",
    "- **Stage Analysis**:\n",
    "  - **High Win Stages**: Stages labeled \"F\", \"QF\", \"SF\", and \"SFP\" exhibit a high number of wins, suggesting multiple wins per match or a larger number of matches.\n",
    "  - **Low Activity Stages**: Stages such as \"R1\", \"R1G\", and \"R2\" through \"R5\", plus \"RD\", \"RD 4\", \"RD 5\", \"PPC\", \"RR\", \"RS\", show fewer wins and losses, possibly indicating elimination rounds or fewer participants.\n",
    "  - **Conclustion**: It's likely the reason for this graph being unclean is down to the fact that there is no naming conventions to rounds arross the matches in the data set. The tornament type is also not listed in the data.\n"
   ]
  },
  {
   "cell_type": "markdown",
   "id": "1770ef16-b2ae-44a5-a4b2-7e2c7e9ce7f2",
   "metadata": {},
   "source": [
    "#### Are there any patterns in victories related to weight classes?"
   ]
  },
  {
   "cell_type": "code",
   "execution_count": null,
   "id": "b02cec38",
   "metadata": {},
   "outputs": [],
   "source": [
    "# Grouping by weight class and counting wins and losses\n",
    "wl_by_weight = data_frame.groupby(['Weight', 'W/L']).size().unstack()\n",
    "\n",
    "# Plotting\n",
    "wl_by_weight.plot(kind='bar', stacked=True, figsize=(30, 6))\n",
    "plt.title('Win/Loss Distribution by Weight Class')\n",
    "plt.xlabel('Weight Class')\n",
    "plt.ylabel('Number of Matches')\n",
    "plt.show()\n"
   ]
  },
  {
   "cell_type": "markdown",
   "id": "6144b1a9",
   "metadata": {},
   "source": [
    "#### Insights from Win/Loss Distribution by Weight Class\n",
    "\n",
    "- **Participation Variance**: Significant differences in match numbers across weight classes suggest varying levels of participation. \n",
    "\n",
    "- **Competitive Balance**: Some classes display a close win/loss ratio, indicating a high level of competition.\n",
    "\n",
    "- **Weight Class Popularity**: Classes with numerous matches are likely the most popular, which could guide competition planning.\n",
    "\n",
    "- **Dominance Indicators**: A large gap between wins and losses in certain classes may point to dominance by specific competitors.\n",
    "\n",
    "- **Absolute Category**: The 'ABS' category's high match count reflects its open-weight nature, attracting a broad range of competitors.\n",
    "\n",
    "- **Strategic Considerations**: For stakeholders like athletes and coaches, analyzing the most successful weight classes could influence training and competition strategies.\n"
   ]
  },
  {
   "cell_type": "markdown",
   "id": "701cddeb-822e-4a87-a83c-9a057035f0eb",
   "metadata": {},
   "source": [
    "### Comparative Analysis"
   ]
  },
  {
   "cell_type": "markdown",
   "id": "d5b87344-9574-4325-bcf6-6b42ebaca85e",
   "metadata": {},
   "source": [
    "#### How do the outcomes differ by competition or year?"
   ]
  },
  {
   "cell_type": "code",
   "execution_count": null,
   "id": "48119b86",
   "metadata": {},
   "outputs": [],
   "source": [
    "\n",
    "# Group by 'Competition' and 'Year' and calculate the mean of 'W/L' which is now the win rate\n",
    "grouped_data = data_frame.groupby(['Competition', 'Year'])['W/L'].mean().reset_index()\n",
    "\n",
    "# Filter for the most popular competitions\n",
    "most_popular_competitions = data_frame['Competition'].value_counts().head(5).index  # Replace N with the number you want to consider\n",
    "grouped_data = grouped_data[grouped_data['Competition'].isin(most_popular_competitions)]\n",
    "\n",
    "# Plotting\n",
    "plt.figure(figsize=(20, 10))\n",
    "sns.lineplot(x='Year', y='W/L', hue='Competition', data=grouped_data, marker=\"o\")\n",
    "\n",
    "# Calculate and plot the overall trend line across all competitions\n",
    "# Concatenate all the year and win rate data\n",
    "all_years = np.concatenate([grouped_data['Year'][grouped_data['Competition'] == comp] for comp in most_popular_competitions])\n",
    "all_win_rates = np.concatenate([grouped_data['W/L'][grouped_data['Competition'] == comp] for comp in most_popular_competitions])\n",
    "\n",
    "# Fit the trend line (linear regression)\n",
    "z = np.polyfit(all_years, all_win_rates, 1)\n",
    "p = np.poly1d(z)\n",
    "\n",
    "# Plot the trend line\n",
    "plt.plot(sorted(grouped_data['Year'].unique()), p(sorted(grouped_data['Year'].unique())), color='black', linestyle='--', linewidth=2)\n",
    "\n",
    "plt.title('Win Rate by Competition Over the Years with Overall Trend Line')\n",
    "plt.xlabel('Year')\n",
    "plt.ylabel('Win Rate')\n",
    "plt.legend(title='Competition')\n",
    "plt.xticks(sorted(grouped_data['Year'].unique()))  # Ensure all years are shown on x-axis\n",
    "plt.tight_layout()\n",
    "plt.show()"
   ]
  },
  {
   "cell_type": "markdown",
   "id": "9970f958",
   "metadata": {},
   "source": [
    "- **Overall Trend**: The black dashed trend line indicates that the average win rate across all competitions has a slight downward trend over the years.\n",
    "- **Individual Competitions**: Some competitions exhibit more volatility in win rates year-over-year than others. For instance, the ADCC shows significant fluctuations, while the World Championship demonstrates more stability after 2008.\n",
    "- **Comparative Analysis**: No single competition consistently outperforms others every year, suggesting variability in the competitiveness or structure of each event.\n",
    "- **Data Spread**: The wide spread in win rates between competitions in some years may indicate differing levels of participation or competitive skill pools.\n"
   ]
  },
  {
   "cell_type": "markdown",
   "id": "7563ac66-066d-45a1-8a39-3a7dd2494c44",
   "metadata": {},
   "source": [
    "### Advanced Analysis"
   ]
  },
  {
   "cell_type": "markdown",
   "id": "d042a4bc-57d1-4970-bab9-501adf5467f0",
   "metadata": {},
   "source": [
    "#### Is there a correlation between the team size and its success rate?"
   ]
  },
  {
   "cell_type": "code",
   "execution_count": null,
   "id": "51cdc718",
   "metadata": {},
   "outputs": [],
   "source": [
    "\n",
    "# Calculate team size as the number of unique participants per team\n",
    "team_sizes = data_frame.groupby('Team')['Full Name'].nunique().reset_index(name='TeamSize')\n",
    "\n",
    "# Calculate the success rate as the number of wins divided by the total number of matches per team\n",
    "team_success_rates = data_frame.groupby('Team')['W/L'].mean().reset_index(name='SuccessRate')\n",
    "\n",
    "# Merge the team sizes with their success rates\n",
    "team_analysis = pd.merge(team_sizes, team_success_rates, on='Team')\n",
    "\n",
    "# Apply the team size cutoff at 20 members\n",
    "team_analysis = team_analysis[team_analysis['TeamSize'] <= 20]\n",
    "\n",
    "# Calculate Pearson correlation\n",
    "correlation_coefficient, p_value = pearsonr(team_analysis['TeamSize'], team_analysis['SuccessRate'])\n",
    "\n",
    "# Print out the correlation coefficient and p-value\n",
    "print(f'Pearson correlation coefficient: {correlation_coefficient:.2f}')\n",
    "print(f'P-value: {p_value:.2f}')\n",
    "\n",
    "\n",
    "# Visualization with a scatter plot and a fitted regression line\n",
    "sns.lmplot(x='TeamSize', y='SuccessRate', data=team_analysis, aspect=2)\n",
    "plt.title('Team Size vs. Success Rate (Up to 20 Members)')\n",
    "plt.xlabel('Team Size')\n",
    "plt.ylabel('Success Rate')\n",
    "\n",
    "# Show the plot\n",
    "plt.show()\n"
   ]
  },
  {
   "cell_type": "markdown",
   "id": "93a5935e",
   "metadata": {},
   "source": [
    "- **Pearson Correlation Coefficient (0.13)**: This value suggests a very weak positive linear relationship between team size and success rate. It indicates that as the team size increases, there is a slight tendency for the success rate to increase as well, but the effect is minimal.\n",
    "- **P-value (0.09)**: The p-value is slightly below 0.10, which suggests that the correlation is not statistically significant at the commonly used threshold of 0.05. This means that any observed correlation could very well be due to random chance rather than a reliable relationship in the population.\n",
    "- **Graph Interpretation**: The scatter plot shows a wide spread of success rates for smaller teams, which narrows as team size increases. Despite the presence of a fitted regression line indicating a slight upward trend, the confidence interval (shaded area) is wide, especially for smaller team sizes, reflecting a high degree of uncertainty about the true relationship between team size and success rate.\n"
   ]
  },
  {
   "cell_type": "markdown",
   "id": "183c7549",
   "metadata": {},
   "source": [
    "## Hypothesis Testing"
   ]
  },
  {
   "cell_type": "markdown",
   "id": "b14f83d6-a37e-44de-87ea-1c800123a2ef",
   "metadata": {},
   "source": [
    "### Are certain methods of winning more prevalent in specific weight classes"
   ]
  },
  {
   "cell_type": "code",
   "execution_count": null,
   "id": "699e6738",
   "metadata": {},
   "outputs": [],
   "source": [
    "# Construct the contingency table\n",
    "contingency_table = pd.crosstab(filtered_methods['Method'], data_frame['Weight'])\n",
    "\n",
    "p_value = 0.05\n",
    "\n",
    "# Perform the chi-square test\n",
    "chi2, p_value, dof, expected = chi2_contingency(contingency_table)\n",
    "\n",
    "# Output the results\n",
    "print(f\"Chi-square Statistic: {chi2}\")\n",
    "print(f\"P-value: {p_value}\")\n",
    "print(f\"Degrees of Freedom: {dof}\")\n",
    "\n",
    "# Interpret the p-value\n",
    "if p_value < 0.05:\n",
    "    print(\"There is a statistically significant association between method of winning and weight class.\")\n",
    "else:\n",
    "    print(\"There is no statistically significant association between method of winning and weight class.\")\n",
    "\n",
    "\n"
   ]
  },
  {
   "cell_type": "markdown",
   "id": "9da29642",
   "metadata": {},
   "source": [
    "### Correlation Analysis"
   ]
  },
  {
   "cell_type": "markdown",
   "id": "2e769400",
   "metadata": {},
   "source": [
    "- **Chi-square Statistic (21738.78)**: This large chi-square statistic suggests a strong association between the variables in the contingency table.\n",
    "- **P-value (< 0.0001)**: The p-value is extremely small, far below any conventional significance level (e.g., 0.01, 0.05, or 0.10), indicating that the observed association is very unlikely to be due to chance.\n",
    "- **Degrees of Freedom (15677)**: A high number of degrees of freedom, which is common with large datasets that have many categories.\n",
    "- **Conclusion**: Given the extremely low p-value, we can reject the null hypothesis. This implies that there is a statistically significant association between the method of winning and weight class in the dataset. Different methods of winning are indeed more prevalent in certain weight classes.\n"
   ]
  },
  {
   "cell_type": "code",
   "execution_count": null,
   "id": "6db61f75",
   "metadata": {},
   "outputs": [],
   "source": [
    "# Convert the contingency table to a DataFrame for plotting\n",
    "contingency_df = contingency_table.copy()\n",
    "\n",
    "# Create the heatmap\n",
    "plt.figure(figsize=(25, 10))\n",
    "sns.heatmap(contingency_df.head(25), annot=True, fmt=\"d\", cmap=\"YlGnBu\", linewidths=.5)\n",
    "\n",
    "# Add labels and a title\n",
    "plt.title('Heatmap of Winning Methods by Weight Class')\n",
    "plt.xlabel('Weight Class')\n",
    "plt.ylabel('Method of Winning')\n",
    "\n",
    "# Show the plot\n",
    "plt.show()\n"
   ]
  },
  {
   "cell_type": "markdown",
   "id": "0a5714c4-5ef6-4c5a-bbad-91ca7f192af4",
   "metadata": {},
   "source": [
    "## Conclusion"
   ]
  },
  {
   "cell_type": "markdown",
   "id": "d0012900-4c61-4433-ae63-5b370b783d28",
   "metadata": {},
   "source": [
    "\n",
    "In this project, we delved into a comprehensive analysis of Brazilian Jiu-Jitsu (BJJ) match data, sourced from the BJJ Heroes website. The primary goal was to uncover patterns and relationships within the sport, focusing on match outcomes, fighters' performance, and competition trends.\n",
    "\n",
    "### Key Findings:\n",
    "\n",
    "1. **Competition Frequency Trends**: Analysis of the frequency of competitions over the years revealed a notable pattern (or trend). This finding could indicate changes in the popularity or organization of BJJ competitions over time.\n",
    "\n",
    "2. **Team Performance Analysis**: By examining the win/loss ratios of various teams, we gained insights into the performance metrics of different clubs and teams within the BJJ community. This analysis is crucial for understanding competitive dynamics in the sport.\n",
    "\n",
    "3. **Correlation Between Team Size and Success Rate**: The correlation analysis, although revealing a very weak positive relationship, suggests that larger team sizes do not significantly influence success rates in BJJ competitions. This finding challenges common assumptions about team size and competitive success.\n",
    "\n",
    "4. **Winning Methods and Weight Classes**: Hypothesis testing using the chi-squared test provided compelling evidence of a significant association between methods of winning and weight classes. This result highlights the strategic variations and adaptability in different weight categories.\n",
    "\n",
    "### Implications of the Study:\n",
    "\n",
    "This study offers valuable insights into the strategic and competitive aspects of Brazilian Jiu-Jitsu. Understanding these dynamics is beneficial not only for athletes and coaches but also for sports analysts and enthusiasts interested in the deeper aspects of martial arts competition.\n",
    "\n",
    "### Recommendations for Future Research:\n",
    "\n",
    "For future studies, it would be beneficial to:\n",
    "- Conduct a time-series analysis to observe trends and changes more precisely over the years.\n",
    "- Explore the impact of other variables such as the geographical location of competitions or the age and experience level of fighters on match outcomes.\n",
    "- Collect the data in a cleaner and more meaningful way to make analysis easier.\n"
   ]
  },
  {
   "cell_type": "markdown",
   "id": "b7b38c4a-88ce-44ae-8d21-812b95bcd39f",
   "metadata": {},
   "source": [
    "## test"
   ]
  },
  {
   "cell_type": "code",
   "execution_count": 34,
   "id": "557ab6ef-2d30-4b5c-a62c-b872d3fba138",
   "metadata": {},
   "outputs": [
    {
     "name": "stdout",
     "output_type": "stream",
     "text": [
      "First few predicted weights:\n",
      " 14    80.027947\n",
      "19    80.623240\n",
      "27    80.702612\n",
      "29    80.781985\n",
      "32    80.504181\n",
      "Name: Points, dtype: float64\n"
     ]
    }
   ],
   "source": [
    "import pandas as pd\n",
    "from scipy import stats\n",
    "\n",
    "clean_data_frame = data_frame;\n",
    "\n",
    "# Remove 'KG' from 'Weight' and convert to numeric\n",
    "clean_data_frame['Weight'] = clean_data_frame['Weight'].str.replace('KG', '', regex=False)\n",
    "clean_data_frame['Weight'] = pd.to_numeric(clean_data_frame['Weight'], errors='coerce')\n",
    "\n",
    "# Extract the winning number from 'Points' and convert to numeric\n",
    "clean_data_frame['Points'] = clean_data_frame['Points'].str.extract(r'(\\d+)x')\n",
    "clean_data_frame['Points'] = pd.to_numeric(clean_data_frame['Points'], errors='coerce')\n",
    "\n",
    "# Drop NaN values\n",
    "clean_data_frame = clean_data_frame.dropna(subset=['Points', 'Weight'])\n",
    "\n",
    "# Prepare x and y for linear regression\n",
    "x = clean_data_frame['Points']\n",
    "y = clean_data_frame['Weight']\n",
    "\n",
    "# Perform linear regression\n",
    "slope, intercept, r_value, p_value, std_err = stats.linregress(clean_data_frame['Points'], clean_data_frame['Weight'])\n",
    "\n",
    "# Now use 'slope' and 'intercept' for prediction\n",
    "predicted_weight = intercept + slope * clean_data_frame['Points']\n",
    "residuals = clean_data_frame['Weight'] - predicted_weight\n",
    "\n",
    "print(\"First few predicted weights:\\n\", predicted_weight.head())"
   ]
  },
  {
   "cell_type": "code",
   "execution_count": 36,
   "id": "a5450ad9-c3ac-47ed-86f6-19b5391bd901",
   "metadata": {},
   "outputs": [
    {
     "data": {
      "image/png": "[encoded data removed]",
      "text/plain": [
       "<Figure size 1000x600 with 1 Axes>"
      ]
     },
     "metadata": {},
     "output_type": "display_data"
    }
   ],
   "source": [
    "# Plotting the line fit\n",
    "plt.figure(figsize=(10, 6))\n",
    "\n",
    "# Scatter plot of actual data points\n",
    "plt.scatter(x, y, label='Actual Weights')\n",
    "\n",
    "# Plot of the predicted line\n",
    "plt.plot(x, predicted_weight, color='red', label='Fitted Line')\n",
    "\n",
    "# Setting the labels and title\n",
    "plt.xlabel('Points')\n",
    "plt.ylabel('Weight')\n",
    "plt.title('Line Fitting in Linear Regression')\n",
    "\n",
    "# Adding a legend\n",
    "plt.legend()\n",
    "\n",
    "# Display the plot\n",
    "plt.show()"
   ]
  },
  {
   "cell_type": "code",
   "execution_count": 42,
   "id": "42fe725e-7716-4616-9f88-ebff80fe704f",
   "metadata": {},
   "outputs": [
    {
     "data": {
      "image/png": "[encoded data removed]",
      "text/plain": [
       "<Figure size 1000x600 with 1 Axes>"
      ]
     },
     "metadata": {},
     "output_type": "display_data"
    }
   ],
   "source": [
    "import matplotlib.pyplot as plt\n",
    "import pandas as pd\n",
    "import numpy as np\n",
    "from scipy import stats\n",
    "\n",
    "# Assuming clean_data_frame is your DataFrame with 'Points' and 'Weight'\n",
    "x = clean_data_frame['Points']\n",
    "y = clean_data_frame['Weight']\n",
    "\n",
    "# Perform linear regression\n",
    "slope, intercept, r_value, p_value, std_err = stats.linregress(x, y)\n",
    "\n",
    "# Calculate the predicted weights\n",
    "predicted_weight = intercept + slope * x\n",
    "\n",
    "# Plotting the Least Squares line fit\n",
    "plt.figure(figsize=(10, 6))\n",
    "plt.scatter(x, y, label='Actual Weights')\n",
    "plt.plot(x, predicted_weight, color='red', label='Least Squares Line')\n",
    "\n",
    "# Adding an arbitrary line for comparison\n",
    "arbitrary_slope = .5  # Example value\n",
    "arbitrary_intercept = 5  # Example value\n",
    "arbitrary_predicted_weight = arbitrary_intercept + arbitrary_slope * x\n",
    "plt.plot(x, arbitrary_predicted_weight, color='green', label='Arbitrary Line')\n",
    "\n",
    "# Labeling and showing the plot\n",
    "plt.xlabel('Points')\n",
    "plt.ylabel('Weight')\n",
    "plt.title('Comparison of Least Squares and Arbitrary Line Fitting')\n",
    "plt.legend()\n",
    "plt.show()\n"
   ]
  },
  {
   "cell_type": "code",
   "execution_count": null,
   "id": "14d9a5b9-2796-419c-a34d-3c433fc84286",
   "metadata": {},
   "outputs": [],
   "source": []
  },
  {
   "cell_type": "code",
   "execution_count": null,
   "id": "a1db4ca5-884e-4003-846e-ec72b5de3f39",
   "metadata": {},
   "outputs": [],
   "source": []
  },
  {
   "cell_type": "code",
   "execution_count": null,
   "id": "47679e86-a125-4d9c-be36-e9193644ddb5",
   "metadata": {},
   "outputs": [],
   "source": []
  },
  {
   "cell_type": "code",
   "execution_count": null,
   "id": "b107e516-4bbd-47f1-b4ef-3d8009989b89",
   "metadata": {},
   "outputs": [],
   "source": []
  }
 ],
 "metadata": {
  "kernelspec": {
   "display_name": "Python 3 (ipykernel)",
   "language": "python",
   "name": "python3"
  },
  "language_info": {
   "codemirror_mode": {
    "name": "ipython",
    "version": 3
   },
   "file_extension": ".py",
   "mimetype": "text/x-python",
   "name": "python",
   "nbconvert_exporter": "python",
   "pygments_lexer": "ipython3",
   "version": "3.12.0"
  }
 },
 "nbformat": 4,
 "nbformat_minor": 5
}
